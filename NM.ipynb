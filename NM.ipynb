{
  "cells": [
    {
      "cell_type": "markdown",
      "metadata": {
        "id": "view-in-github",
        "colab_type": "text"
      },
      "source": [
        "<a href=\"https://colab.research.google.com/github/MANOJ-80/Fraud-Detection-NM/blob/main/NM.ipynb\" target=\"_parent\"><img src=\"https://colab.research.google.com/assets/colab-badge.svg\" alt=\"Open In Colab\"/></a>"
      ]
    },
    {
      "cell_type": "code",
      "execution_count": null,
      "metadata": {
        "colab": {
          "base_uri": "https://localhost:8080/"
        },
        "id": "KmucmatK7gLH",
        "outputId": "97776730-fea1-41a1-dc67-27c0b85d24f6"
      },
      "outputs": [
        {
          "output_type": "stream",
          "name": "stdout",
          "text": [
            "Requirement already satisfied: pandas in /usr/local/lib/python3.11/dist-packages (2.2.2)\n",
            "Requirement already satisfied: scikit-learn in /usr/local/lib/python3.11/dist-packages (1.6.1)\n",
            "Requirement already satisfied: xgboost in /usr/local/lib/python3.11/dist-packages (2.1.4)\n",
            "Requirement already satisfied: lightgbm in /usr/local/lib/python3.11/dist-packages (4.5.0)\n",
            "Requirement already satisfied: catboost in /usr/local/lib/python3.11/dist-packages (1.2.8)\n",
            "Requirement already satisfied: matplotlib in /usr/local/lib/python3.11/dist-packages (3.10.0)\n",
            "Requirement already satisfied: seaborn in /usr/local/lib/python3.11/dist-packages (0.13.2)\n",
            "Requirement already satisfied: numpy>=1.23.2 in /usr/local/lib/python3.11/dist-packages (from pandas) (2.0.2)\n",
            "Requirement already satisfied: python-dateutil>=2.8.2 in /usr/local/lib/python3.11/dist-packages (from pandas) (2.9.0.post0)\n",
            "Requirement already satisfied: pytz>=2020.1 in /usr/local/lib/python3.11/dist-packages (from pandas) (2025.2)\n",
            "Requirement already satisfied: tzdata>=2022.7 in /usr/local/lib/python3.11/dist-packages (from pandas) (2025.2)\n",
            "Requirement already satisfied: scipy>=1.6.0 in /usr/local/lib/python3.11/dist-packages (from scikit-learn) (1.15.3)\n",
            "Requirement already satisfied: joblib>=1.2.0 in /usr/local/lib/python3.11/dist-packages (from scikit-learn) (1.5.0)\n",
            "Requirement already satisfied: threadpoolctl>=3.1.0 in /usr/local/lib/python3.11/dist-packages (from scikit-learn) (3.6.0)\n",
            "Requirement already satisfied: nvidia-nccl-cu12 in /usr/local/lib/python3.11/dist-packages (from xgboost) (2.21.5)\n",
            "Requirement already satisfied: graphviz in /usr/local/lib/python3.11/dist-packages (from catboost) (0.20.3)\n",
            "Requirement already satisfied: plotly in /usr/local/lib/python3.11/dist-packages (from catboost) (5.24.1)\n",
            "Requirement already satisfied: six in /usr/local/lib/python3.11/dist-packages (from catboost) (1.17.0)\n",
            "Requirement already satisfied: contourpy>=1.0.1 in /usr/local/lib/python3.11/dist-packages (from matplotlib) (1.3.2)\n",
            "Requirement already satisfied: cycler>=0.10 in /usr/local/lib/python3.11/dist-packages (from matplotlib) (0.12.1)\n",
            "Requirement already satisfied: fonttools>=4.22.0 in /usr/local/lib/python3.11/dist-packages (from matplotlib) (4.58.0)\n",
            "Requirement already satisfied: kiwisolver>=1.3.1 in /usr/local/lib/python3.11/dist-packages (from matplotlib) (1.4.8)\n",
            "Requirement already satisfied: packaging>=20.0 in /usr/local/lib/python3.11/dist-packages (from matplotlib) (24.2)\n",
            "Requirement already satisfied: pillow>=8 in /usr/local/lib/python3.11/dist-packages (from matplotlib) (11.2.1)\n",
            "Requirement already satisfied: pyparsing>=2.3.1 in /usr/local/lib/python3.11/dist-packages (from matplotlib) (3.2.3)\n",
            "Requirement already satisfied: tenacity>=6.2.0 in /usr/local/lib/python3.11/dist-packages (from plotly->catboost) (9.1.2)\n"
          ]
        }
      ],
      "source": [
        "!pip install pandas scikit-learn xgboost lightgbm catboost matplotlib seaborn\n"
      ]
    },
    {
      "cell_type": "code",
      "execution_count": null,
      "metadata": {
        "colab": {
          "base_uri": "https://localhost:8080/"
        },
        "id": "DPIJjkAzT-C7",
        "outputId": "e33ea533-732c-4dcd-88d8-a6e6356c99f5"
      },
      "outputs": [
        {
          "output_type": "stream",
          "name": "stdout",
          "text": [
            "Missing values in 'Class': 0\n",
            "            Time         V1         V2        V3        V4        V5  \\\n",
            "0            0.0  -1.359807  -0.072781  2.536347  1.378155 -0.338321   \n",
            "1            0.0   1.191857   0.266151  0.166480  0.448154  0.060018   \n",
            "2            1.0  -1.358354  -1.340163  1.773209  0.379780 -0.503198   \n",
            "3            1.0  -0.966272  -0.185226  1.792993 -0.863291 -0.010309   \n",
            "4            2.0  -1.158233   0.877737  1.548718  0.403034 -0.407193   \n",
            "...          ...        ...        ...       ...       ...       ...   \n",
            "284802  172786.0 -11.881118  10.071785 -9.834783 -2.066656 -5.364473   \n",
            "284803  172787.0  -0.732789  -0.055080  2.035030 -0.738589  0.868229   \n",
            "284804  172788.0   1.919565  -0.301254 -3.249640 -0.557828  2.630515   \n",
            "284805  172788.0  -0.240440   0.530483  0.702510  0.689799 -0.377961   \n",
            "284806  172792.0  -0.533413  -0.189733  0.703337 -0.506271 -0.012546   \n",
            "\n",
            "              V6        V7        V8        V9  ...       V20       V21  \\\n",
            "0       0.462388  0.239599  0.098698  0.363787  ...  0.251412 -0.018307   \n",
            "1      -0.082361 -0.078803  0.085102 -0.255425  ... -0.069083 -0.225775   \n",
            "2       1.800499  0.791461  0.247676 -1.514654  ...  0.524980  0.247998   \n",
            "3       1.247203  0.237609  0.377436 -1.387024  ... -0.208038 -0.108300   \n",
            "4       0.095921  0.592941 -0.270533  0.817739  ...  0.408542 -0.009431   \n",
            "...          ...       ...       ...       ...  ...       ...       ...   \n",
            "284802 -2.606837 -4.918215  7.305334  1.914428  ...  1.475829  0.213454   \n",
            "284803  1.058415  0.024330  0.294869  0.584800  ...  0.059616  0.214205   \n",
            "284804  3.031260 -0.296827  0.708417  0.432454  ...  0.001396  0.232045   \n",
            "284805  0.623708 -0.686180  0.679145  0.392087  ...  0.127434  0.265245   \n",
            "284806 -0.649617  1.577006 -0.414650  0.486180  ...  0.382948  0.261057   \n",
            "\n",
            "             V22       V23       V24       V25       V26       V27       V28  \\\n",
            "0       0.277838 -0.110474  0.066928  0.128539 -0.189115  0.133558 -0.021053   \n",
            "1      -0.638672  0.101288 -0.339846  0.167170  0.125895 -0.008983  0.014724   \n",
            "2       0.771679  0.909412 -0.689281 -0.327642 -0.139097 -0.055353 -0.059752   \n",
            "3       0.005274 -0.190321 -1.175575  0.647376 -0.221929  0.062723  0.061458   \n",
            "4       0.798278 -0.137458  0.141267 -0.206010  0.502292  0.219422  0.215153   \n",
            "...          ...       ...       ...       ...       ...       ...       ...   \n",
            "284802  0.111864  1.014480 -0.509348  1.436807  0.250034  0.943651  0.823731   \n",
            "284803  0.924384  0.012463 -1.016226 -0.606624 -0.395255  0.068472 -0.053527   \n",
            "284804  0.578229 -0.037501  0.640134  0.265745 -0.087371  0.004455 -0.026561   \n",
            "284805  0.800049 -0.163298  0.123205 -0.569159  0.546668  0.108821  0.104533   \n",
            "284806  0.643078  0.376777  0.008797 -0.473649 -0.818267 -0.002415  0.013649   \n",
            "\n",
            "        Amount  \n",
            "0       149.62  \n",
            "1         2.69  \n",
            "2       378.66  \n",
            "3       123.50  \n",
            "4        69.99  \n",
            "...        ...  \n",
            "284802    0.77  \n",
            "284803   24.79  \n",
            "284804   67.88  \n",
            "284805   10.00  \n",
            "284806  217.00  \n",
            "\n",
            "[284807 rows x 30 columns]\n",
            "Remaining missing values in y_train: 0\n",
            "Remaining missing values in y_test: 0\n"
          ]
        }
      ],
      "source": [
        "# 📌 Import Libraries\n",
        "import pandas as pd\n",
        "import numpy as np\n",
        "\n",
        "from sklearn.model_selection import train_test_split\n",
        "from sklearn.preprocessing import StandardScaler\n",
        "from sklearn.metrics import accuracy_score, roc_auc_score, confusion_matrix, classification_report\n",
        "\n",
        "from sklearn.ensemble import RandomForestClassifier, AdaBoostClassifier\n",
        "from xgboost import XGBClassifier\n",
        "from lightgbm import LGBMClassifier\n",
        "from catboost import CatBoostClassifier\n",
        "\n",
        "import warnings\n",
        "warnings.filterwarnings(\"ignore\")\n",
        "\n",
        "## 📌 Load Dataset\n",
        "data = pd.read_csv('/content/creditcard.csv')\n",
        "\n",
        "# 📌 Check for missing values in 'Class'\n",
        "missing_values = data['Class'].isnull().sum()\n",
        "print(f\"Missing values in 'Class': {missing_values}\")\n",
        "\n",
        "# 📌 If there are any missing values — drop those rows\n",
        "if missing_values > 0:\n",
        "    data = data.dropna(subset=['Class'])\n",
        "    print(\"Dropped rows with missing target values.\")\n",
        "\n",
        "# 📌 Define Features (X) and Target (y)\n",
        "X = data.drop('Class', axis=1)\n",
        "y = data['Class']\n",
        "print(X)\n",
        "# 📌 Standardize 'Time' and 'Amount'\n",
        "from sklearn.preprocessing import StandardScaler\n",
        "scaler = StandardScaler()\n",
        "X[['Time', 'Amount']] = scaler.fit_transform(X[['Time', 'Amount']])\n",
        "\n",
        "# 📌 Split the Dataset (Stratify keeps class distribution same)\n",
        "from sklearn.model_selection import train_test_split\n",
        "X_train, X_test, y_train, y_test = train_test_split(\n",
        "    X, y, test_size=0.2, random_state=42, stratify=y\n",
        ")\n",
        "\n",
        "# 📌 Confirm no NaNs now\n",
        "print(f\"Remaining missing values in y_train: {y_train.isnull().sum()}\")\n",
        "print(f\"Remaining missing values in y_test: {y_test.isnull().sum()}\")\n",
        "\n"
      ]
    },
    {
      "cell_type": "code",
      "execution_count": null,
      "metadata": {
        "colab": {
          "base_uri": "https://localhost:8080/"
        },
        "id": "yM3jxOod7nvR",
        "outputId": "3dd50678-3513-4cad-e7ae-f411f23271f9"
      },
      "outputs": [
        {
          "output_type": "stream",
          "name": "stdout",
          "text": [
            "📊 Random Forest Results:\n",
            "Accuracy: 0.9996\n",
            "ROC AUC Score: 0.9081\n",
            "Confusion Matrix:\n",
            "[[56859     5]\n",
            " [   18    80]]\n",
            "Classification Report:\n",
            "              precision    recall  f1-score   support\n",
            "\n",
            "           0       1.00      1.00      1.00     56864\n",
            "           1       0.94      0.82      0.87        98\n",
            "\n",
            "    accuracy                           1.00     56962\n",
            "   macro avg       0.97      0.91      0.94     56962\n",
            "weighted avg       1.00      1.00      1.00     56962\n",
            "\n"
          ]
        }
      ],
      "source": [
        "rf_model = RandomForestClassifier(n_estimators=100, random_state=42)\n",
        "rf_model.fit(X_train, y_train)\n",
        "y_pred_rf = rf_model.predict(X_test)\n",
        "\n",
        "print(\"📊 Random Forest Results:\")\n",
        "print(f\"Accuracy: {accuracy_score(y_test, y_pred_rf):.4f}\")\n",
        "print(f\"ROC AUC Score: {roc_auc_score(y_test, y_pred_rf):.4f}\")\n",
        "print(\"Confusion Matrix:\")\n",
        "print(confusion_matrix(y_test, y_pred_rf))\n",
        "print(\"Classification Report:\")\n",
        "print(classification_report(y_test, y_pred_rf))\n"
      ]
    },
    {
      "cell_type": "code",
      "execution_count": null,
      "metadata": {
        "id": "Q7UE3t11AzN9",
        "colab": {
          "base_uri": "https://localhost:8080/"
        },
        "outputId": "a84aa7be-b52d-4c9c-d9b9-92ed74de6879"
      },
      "outputs": [
        {
          "output_type": "stream",
          "name": "stdout",
          "text": [
            "📊 XGBoost Results:\n",
            "Accuracy: 0.9995\n",
            "ROC AUC Score: 0.9030\n",
            "Confusion Matrix:\n",
            "[[56857     7]\n",
            " [   19    79]]\n",
            "Classification Report:\n",
            "              precision    recall  f1-score   support\n",
            "\n",
            "           0       1.00      1.00      1.00     56864\n",
            "           1       0.92      0.81      0.86        98\n",
            "\n",
            "    accuracy                           1.00     56962\n",
            "   macro avg       0.96      0.90      0.93     56962\n",
            "weighted avg       1.00      1.00      1.00     56962\n",
            "\n"
          ]
        }
      ],
      "source": [
        "xgb_model = XGBClassifier(use_label_encoder=False, eval_metric='logloss', random_state=42)\n",
        "xgb_model.fit(X_train, y_train)\n",
        "y_pred_xgb = xgb_model.predict(X_test)\n",
        "\n",
        "print(\"📊 XGBoost Results:\")\n",
        "print(f\"Accuracy: {accuracy_score(y_test, y_pred_xgb):.4f}\")\n",
        "print(f\"ROC AUC Score: {roc_auc_score(y_test, y_pred_xgb):.4f}\")\n",
        "print(\"Confusion Matrix:\")\n",
        "print(confusion_matrix(y_test, y_pred_xgb))\n",
        "print(\"Classification Report:\")\n",
        "print(classification_report(y_test, y_pred_xgb))\n"
      ]
    },
    {
      "cell_type": "code",
      "execution_count": null,
      "metadata": {
        "id": "ifh_fHOWA7VZ",
        "colab": {
          "base_uri": "https://localhost:8080/"
        },
        "outputId": "d96aa4ab-59ff-4a02-cfcc-86da0061c0a2"
      },
      "outputs": [
        {
          "output_type": "stream",
          "name": "stdout",
          "text": [
            "[LightGBM] [Info] Number of positive: 394, number of negative: 227451\n",
            "[LightGBM] [Info] Auto-choosing row-wise multi-threading, the overhead of testing was 0.035844 seconds.\n",
            "You can set `force_row_wise=true` to remove the overhead.\n",
            "And if memory is not enough, you can set `force_col_wise=true`.\n",
            "[LightGBM] [Info] Total Bins 7650\n",
            "[LightGBM] [Info] Number of data points in the train set: 227845, number of used features: 30\n",
            "[LightGBM] [Info] [binary:BoostFromScore]: pavg=0.001729 -> initscore=-6.358339\n",
            "[LightGBM] [Info] Start training from score -6.358339\n",
            "📊 LightGBM Results:\n",
            "Accuracy: 0.9970\n",
            "ROC AUC Score: 0.7540\n",
            "Confusion Matrix:\n",
            "[[56740   124]\n",
            " [   48    50]]\n",
            "Classification Report:\n",
            "              precision    recall  f1-score   support\n",
            "\n",
            "           0       1.00      1.00      1.00     56864\n",
            "           1       0.29      0.51      0.37        98\n",
            "\n",
            "    accuracy                           1.00     56962\n",
            "   macro avg       0.64      0.75      0.68     56962\n",
            "weighted avg       1.00      1.00      1.00     56962\n",
            "\n"
          ]
        }
      ],
      "source": [
        "lgbm_model = LGBMClassifier(random_state=42)\n",
        "lgbm_model.fit(X_train, y_train)\n",
        "y_pred_lgbm = lgbm_model.predict(X_test)\n",
        "\n",
        "print(\"📊 LightGBM Results:\")\n",
        "print(f\"Accuracy: {accuracy_score(y_test, y_pred_lgbm):.4f}\")\n",
        "print(f\"ROC AUC Score: {roc_auc_score(y_test, y_pred_lgbm):.4f}\")\n",
        "print(\"Confusion Matrix:\")\n",
        "print(confusion_matrix(y_test, y_pred_lgbm))\n",
        "print(\"Classification Report:\")\n",
        "print(classification_report(y_test, y_pred_lgbm))\n"
      ]
    },
    {
      "cell_type": "code",
      "execution_count": null,
      "metadata": {
        "id": "GzBOp5g6A-ZX",
        "colab": {
          "base_uri": "https://localhost:8080/"
        },
        "outputId": "e73c8df8-c1de-471e-b669-208e98e75248"
      },
      "outputs": [
        {
          "output_type": "stream",
          "name": "stdout",
          "text": [
            "📊 CatBoost Results:\n",
            "Accuracy: 0.9996\n",
            "ROC AUC Score: 0.9132\n",
            "Confusion Matrix:\n",
            "[[56860     4]\n",
            " [   17    81]]\n",
            "Classification Report:\n",
            "              precision    recall  f1-score   support\n",
            "\n",
            "           0       1.00      1.00      1.00     56864\n",
            "           1       0.95      0.83      0.89        98\n",
            "\n",
            "    accuracy                           1.00     56962\n",
            "   macro avg       0.98      0.91      0.94     56962\n",
            "weighted avg       1.00      1.00      1.00     56962\n",
            "\n"
          ]
        }
      ],
      "source": [
        "cat_model = CatBoostClassifier(verbose=0, random_state=42)\n",
        "cat_model.fit(X_train, y_train)\n",
        "y_pred_cat = cat_model.predict(X_test)\n",
        "\n",
        "print(\"📊 CatBoost Results:\")\n",
        "print(f\"Accuracy: {accuracy_score(y_test, y_pred_cat):.4f}\")\n",
        "print(f\"ROC AUC Score: {roc_auc_score(y_test, y_pred_cat):.4f}\")\n",
        "print(\"Confusion Matrix:\")\n",
        "print(confusion_matrix(y_test, y_pred_cat))\n",
        "print(\"Classification Report:\")\n",
        "print(classification_report(y_test, y_pred_cat))\n"
      ]
    },
    {
      "cell_type": "code",
      "execution_count": null,
      "metadata": {
        "id": "tPZKMl0dBBUl",
        "colab": {
          "base_uri": "https://localhost:8080/"
        },
        "outputId": "079ca444-7ab7-4395-cf6c-7891e4c09559"
      },
      "outputs": [
        {
          "output_type": "stream",
          "name": "stdout",
          "text": [
            "📊 AdaBoost Results:\n",
            "Accuracy: 0.9990\n",
            "ROC AUC Score: 0.8671\n",
            "Confusion Matrix:\n",
            "[[56834    30]\n",
            " [   26    72]]\n",
            "Classification Report:\n",
            "              precision    recall  f1-score   support\n",
            "\n",
            "           0       1.00      1.00      1.00     56864\n",
            "           1       0.71      0.73      0.72        98\n",
            "\n",
            "    accuracy                           1.00     56962\n",
            "   macro avg       0.85      0.87      0.86     56962\n",
            "weighted avg       1.00      1.00      1.00     56962\n",
            "\n"
          ]
        }
      ],
      "source": [
        "ada_model = AdaBoostClassifier(n_estimators=100, random_state=42)\n",
        "ada_model.fit(X_train, y_train)\n",
        "y_pred_ada = ada_model.predict(X_test)\n",
        "\n",
        "print(\"📊 AdaBoost Results:\")\n",
        "print(f\"Accuracy: {accuracy_score(y_test, y_pred_ada):.4f}\")\n",
        "print(f\"ROC AUC Score: {roc_auc_score(y_test, y_pred_ada):.4f}\")\n",
        "print(\"Confusion Matrix:\")\n",
        "print(confusion_matrix(y_test, y_pred_ada))\n",
        "print(\"Classification Report:\")\n",
        "print(classification_report(y_test, y_pred_ada))\n"
      ]
    },
    {
      "cell_type": "code",
      "source": [
        "import joblib\n",
        "\n",
        "joblib.dump(rf_model, 'random_forest_model.pkl')\n",
        "\n",
        "print(\"✅ Random Forest model saved as 'random_forest_model.pkl'\")\n"
      ],
      "metadata": {
        "colab": {
          "base_uri": "https://localhost:8080/"
        },
        "id": "bAL80F4-DwX-",
        "outputId": "bdac3a02-2ea7-4d53-9ad9-624129f380ec"
      },
      "execution_count": null,
      "outputs": [
        {
          "output_type": "stream",
          "name": "stdout",
          "text": [
            "✅ Random Forest model saved as 'random_forest_model.pkl'\n"
          ]
        }
      ]
    },
    {
      "cell_type": "code",
      "source": [
        "from google.colab import files\n",
        "\n",
        "files.download('random_forest_model.pkl')\n"
      ],
      "metadata": {
        "id": "1G4sllM9G31Q",
        "outputId": "8881c9f8-5d1c-4fee-e711-75d6bf721b6a",
        "colab": {
          "base_uri": "https://localhost:8080/",
          "height": 17
        }
      },
      "execution_count": null,
      "outputs": [
        {
          "output_type": "display_data",
          "data": {
            "text/plain": [
              "<IPython.core.display.Javascript object>"
            ],
            "application/javascript": [
              "\n",
              "    async function download(id, filename, size) {\n",
              "      if (!google.colab.kernel.accessAllowed) {\n",
              "        return;\n",
              "      }\n",
              "      const div = document.createElement('div');\n",
              "      const label = document.createElement('label');\n",
              "      label.textContent = `Downloading \"${filename}\": `;\n",
              "      div.appendChild(label);\n",
              "      const progress = document.createElement('progress');\n",
              "      progress.max = size;\n",
              "      div.appendChild(progress);\n",
              "      document.body.appendChild(div);\n",
              "\n",
              "      const buffers = [];\n",
              "      let downloaded = 0;\n",
              "\n",
              "      const channel = await google.colab.kernel.comms.open(id);\n",
              "      // Send a message to notify the kernel that we're ready.\n",
              "      channel.send({})\n",
              "\n",
              "      for await (const message of channel.messages) {\n",
              "        // Send a message to notify the kernel that we're ready.\n",
              "        channel.send({})\n",
              "        if (message.buffers) {\n",
              "          for (const buffer of message.buffers) {\n",
              "            buffers.push(buffer);\n",
              "            downloaded += buffer.byteLength;\n",
              "            progress.value = downloaded;\n",
              "          }\n",
              "        }\n",
              "      }\n",
              "      const blob = new Blob(buffers, {type: 'application/binary'});\n",
              "      const a = document.createElement('a');\n",
              "      a.href = window.URL.createObjectURL(blob);\n",
              "      a.download = filename;\n",
              "      div.appendChild(a);\n",
              "      a.click();\n",
              "      div.remove();\n",
              "    }\n",
              "  "
            ]
          },
          "metadata": {}
        },
        {
          "output_type": "display_data",
          "data": {
            "text/plain": [
              "<IPython.core.display.Javascript object>"
            ],
            "application/javascript": [
              "download(\"download_4d0ef272-b11b-4314-b646-a951312c365d\", \"random_forest_model.pkl\", 2645561)"
            ]
          },
          "metadata": {}
        }
      ]
    },
    {
      "cell_type": "code",
      "source": [],
      "metadata": {
        "id": "dlMvADSEG7dr"
      },
      "execution_count": null,
      "outputs": []
    }
  ],
  "metadata": {
    "colab": {
      "provenance": [],
      "authorship_tag": "ABX9TyOzl+/qxwKXNX6jSBA2axFT",
      "include_colab_link": true
    },
    "kernelspec": {
      "display_name": "Python 3",
      "name": "python3"
    },
    "language_info": {
      "name": "python"
    }
  },
  "nbformat": 4,
  "nbformat_minor": 0
}